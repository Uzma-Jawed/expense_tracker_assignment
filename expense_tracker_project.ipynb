{
  "cells": [
    {
      "cell_type": "markdown",
      "metadata": {
        "id": "ljyEi8bkkvNl"
      },
      "source": [
        "\"Assignment-2\"(SMIT)[AI & Data Science]\n",
        "Instructor @Aqsa Moiz"
      ]
    },
    {
      "cell_type": "code",
      "execution_count": 1,
      "metadata": {
        "colab": {
          "base_uri": "https://localhost:8080/"
        },
        "id": "8s42DuKaxgGP",
        "outputId": "d01d48ea-1087-4c1e-cfda-9a49c456e337"
      },
      "outputs": [
        {
          "name": "stdout",
          "output_type": "stream",
          "text": [
            "Enter your name: Sarah\n",
            "Enter your profession: Software Engineer\n",
            "Welcome, Sarah! Let's analyze your financial health as a Software Engineer.\n"
          ]
        }
      ],
      "source": [
        "# Expense Tracker and Financial Health Checker\n",
        "# This program helps users track income, expenses, and savings goals.\n",
        "\n",
        "# 1. User Profile Setup\n",
        "\n",
        "# Taking input from user\n",
        "name = input(\"Enter your name: \")\n",
        "profession = input(\"Enter your profession: \")\n",
        "\n",
        "# Display a personalized welcome message\n",
        "print(f\"Welcome, {name}! Let's analyze your financial health as a {profession}.\")"
      ]
    },
    {
      "cell_type": "code",
      "execution_count": 2,
      "metadata": {
        "colab": {
          "base_uri": "https://localhost:8080/"
        },
        "id": "QnJOnRWt4akI",
        "outputId": "9eac2952-663e-4ec1-ceb7-6daf76b4317d"
      },
      "outputs": [
        {
          "name": "stdout",
          "output_type": "stream",
          "text": [
            "Enter your Monthly Income: 80000\n",
            "Enter your Monthly Expenses: 60000\n",
            "Total Savings: 20000\n",
            "Savings Percentage: 25.0 %\n"
          ]
        }
      ],
      "source": [
        "# Task 2: Income and Expense Management\n",
        "# This section calculates monthly savings and savings percentage based on user input.\n",
        "\n",
        "# Keep asking for input until valid numbers are provided\n",
        "while True:\n",
        "    try:\n",
        "        income = int(input(\"Enter your Monthly Income: \"))\n",
        "        expenses = int(input(\"Enter your Monthly Expenses: \"))\n",
        "\n",
        "        # Validate that income is positive\n",
        "        if income <= 0:\n",
        "            print(\"Income must be a positive number.\")\n",
        "            # Restart the loop if invalid\n",
        "            continue\n",
        "        # Exit loop if inputs are valid\n",
        "        break\n",
        "\n",
        "    except ValueError:\n",
        "        print(\"Please enter valid whole numbers for income and expenses.\")\n",
        "\n",
        "# Calculate monthly savings (Income - Expenses)\n",
        "savings = income - expenses\n",
        "\n",
        "# Calculate savings percentage\n",
        "savings_percentage = (savings / income) * 100\n",
        "\n",
        "# Display results\n",
        "print(\"Total Savings:\", savings)\n",
        "print(\"Savings Percentage:\", savings_percentage, \"%\")"
      ]
    },
    {
      "cell_type": "code",
      "execution_count": 3,
      "metadata": {
        "colab": {
          "base_uri": "https://localhost:8080/"
        },
        "id": "bqpeoMRf6NP4",
        "outputId": "bc3a22a3-260f-4dfe-a10b-f8d0a64a779f"
      },
      "outputs": [
        {
          "name": "stdout",
          "output_type": "stream",
          "text": [
            "Great job, Sarah! You have a strong savings habit.\n"
          ]
        }
      ],
      "source": [
        "# Task 3: Financial Health Check\n",
        "# This section provides personalized savings feedback based on savings percentage.\n",
        "\n",
        "# Determine financial health based on savings percentage\n",
        "if savings_percentage >= 20:\n",
        "   # Strong savings case\n",
        "    print(f\"Great job, {name}! You have a strong savings habit.\")\n",
        "elif 10 <= savings_percentage < 20:\n",
        "    # Moderate savings case\n",
        "    print(f\"Good, {name}, but you could save a bit more.\")\n",
        "else:\n",
        "    # Low savings case\n",
        "    print(f\"Warning, {name}: Your savings are too low. Consider cutting expenses!\")"
      ]
    },
    {
      "cell_type": "code",
      "execution_count": 4,
      "metadata": {
        "colab": {
          "base_uri": "https://localhost:8080/"
        },
        "id": "0dwTwq5fVguQ",
        "outputId": "274c1192-2df5-4215-e065-e03ea46c97b4"
      },
      "outputs": [
        {
          "name": "stdout",
          "output_type": "stream",
          "text": [
            "Categorize Your Expenses:\n",
            "How much do you spend on Essentials? 40000\n",
            "How much do you spend on Wants?20000\n",
            "How much do you save or invest? 20000\n",
            "Expense Breakdown:\n",
            "Essentials: 50.0%\n",
            "Wants: 25.0%\n",
            "Savings/Investments: 25.0%\n"
          ]
        }
      ],
      "source": [
        "# Task 4: Categorize Expenses\n",
        "# Analyzes spending distribution across Essentials, Wants, and Savings/Investments.\n",
        "\n",
        "print(\"Categorize Your Expenses:\")\n",
        "\n",
        "while True:\n",
        "    try:\n",
        "        # Get user input for each category\n",
        "        essentials = int(input(\"How much do you spend on Essentials? \"))  # Essentials: rent, groceries, utilities\n",
        "        wants = int(input(\"How much do you spend on Wants?\"))             # Wants: dining, entertainment\n",
        "        investments = int(input(\"How much do you save or invest? \"))      # Future security: savings/investments\n",
        "\n",
        "        # Validate inputs (prevent negative numbers)\n",
        "        if essentials < 0 or wants < 0 or investments < 0:\n",
        "            print(\"Amounts cannot be negative. Try again!\")\n",
        "            continue\n",
        "\n",
        "        total_spent = essentials + wants + investments\n",
        "\n",
        "        # Handle potential division by zero (if total_spent = 0)\n",
        "        if total_spent == 0:\n",
        "            print(\"Error: All categories are zero. No breakdown possible.\")\n",
        "            continue\n",
        "\n",
        "        # Calculate percentages\n",
        "        essentials_percent = (essentials / total_spent) * 100\n",
        "        wants_percent = (wants / total_spent) * 100\n",
        "        investments_percent = (investments / total_spent) * 100\n",
        "\n",
        "        # Display formatted results\n",
        "        print(\"Expense Breakdown:\")\n",
        "        print(f\"Essentials: {essentials_percent}%\")\n",
        "        print(f\"Wants: {wants_percent}%\")\n",
        "        print(f\"Savings/Investments: {investments_percent}%\")\n",
        "        break\n",
        "\n",
        "    except ValueError:  # Catch non-integer inputs\n",
        "        print(\"Invalid input! Please enter whole numbers only.\")"
      ]
    },
    {
      "cell_type": "code",
      "execution_count": 5,
      "metadata": {
        "colab": {
          "base_uri": "https://localhost:8080/"
        },
        "id": "-kK-kL13aM-N",
        "outputId": "dd160776-f03b-4606-c869-8d31607dd3f4"
      },
      "outputs": [
        {
          "name": "stdout",
          "output_type": "stream",
          "text": [
            "Savings Goal Check:\n",
            "What is your savings goal (in %)? 30\n",
            "Your current savings percentage is: 25.0%\n",
            "Keep working, Sarah! You're 5.0% away from your 30% goal.\n"
          ]
        }
      ],
      "source": [
        "# Task 5: Custom Goals\n",
        "# Checks if the user's savings meet their custom goal percentage.\n",
        "\n",
        "print(\"Savings Goal Check:\")\n",
        "\n",
        "while True:\n",
        "    try:\n",
        "        goal = int(input(\"What is your savings goal (in %)? \"))\n",
        "\n",
        "        # Validate goal is realistic (0%-100%)\n",
        "        if goal < 0 or goal > 100:\n",
        "            print(\"Goal must be between 0% and 100%. Try again!\")\n",
        "            continue\n",
        "        break\n",
        "\n",
        "    except ValueError:\n",
        "        # Handle non-integer input\n",
        "        print(\"Error: Please enter a whole number (e.g., 20).\")\n",
        "\n",
        "# Display current savings percentage\n",
        "print(f\"Your current savings percentage is: {savings_percentage}%\")\n",
        "\n",
        "if savings_percentage >= goal:\n",
        "    print(f\"Congratulations, {name}! You've achieved your savings goal of {goal}%! 🎉\")\n",
        "else:\n",
        "    gap = goal - savings_percentage\n",
        "    print(f\"Keep working, {name}! You're {gap:}% away from your {goal}% goal.\")"
      ]
    },
    {
      "cell_type": "code",
      "execution_count": 6,
      "metadata": {
        "colab": {
          "base_uri": "https://localhost:8080/"
        },
        "id": "eaq30Zcvcc0D",
        "outputId": "0471231c-d99c-4266-9cbc-b272d4ef5f46"
      },
      "outputs": [
        {
          "name": "stdout",
          "output_type": "stream",
          "text": [
            "\n",
            "Financial Health Summary for Sarah:\n",
            "\n",
            "Income: 80000\n",
            "Expenses: 60000\n",
            "Savings: 20000 (25.0%)\n",
            "\n",
            "Expense Breakdown:\n",
            "- Essentials: 50.0%\n",
            "- Wants: 25.0%\n",
            "- Savings/Investments: 25.0%\n",
            "\n",
            "Savings Goal: 30%\n",
            "Status: ❌ 5.0% away from goal\n",
            "\n",
            "Would you like to save this summary to a file? (yes/no): no\n",
            "Summary not saved.\n"
          ]
        }
      ],
      "source": [
        "# Task 6: Export Summary (Bonus Feature):\n",
        "# Generates and optionally saves a comprehensive financial report\n",
        "\n",
        "# Generate the summary with proper f-string formatting\n",
        "\n",
        "summary = f\"\"\"\n",
        "Financial Health Summary for {name}:\n",
        "\n",
        "Income: {income:}\n",
        "Expenses: {expenses:}\n",
        "Savings: {savings:} ({savings_percentage:}%)\n",
        "\n",
        "Expense Breakdown:\n",
        "- Essentials: {essentials_percent:}%\n",
        "- Wants: {wants_percent:}%\n",
        "- Savings/Investments: {investments_percent:}%\n",
        "\n",
        "Savings Goal: {goal}%\n",
        "Status: {'✅ Achieved' if savings_percentage >= goal else f'❌ {gap:.1f}% away from goal'}\n",
        "\"\"\"\n",
        "\n",
        "print(summary)\n",
        "\n",
        "# File saving feature\n",
        "save = input(\"Would you like to save this summary to a file? (yes/no): \").lower()\n",
        "if save == 'yes':\n",
        "    with open(\"financial_summary.txt\", \"w\") as file:\n",
        "        file.write(summary)\n",
        "    print(\"Summary saved to 'financial_summary.txt'.\")\n",
        "else:\n",
        "    print(\"Summary not saved.\")"
      ]
    }
  ],
  "metadata": {
    "colab": {
      "provenance": []
    },
    "kernelspec": {
      "display_name": "Python 3",
      "name": "python3"
    },
    "language_info": {
      "name": "python"
    }
  },
  "nbformat": 4,
  "nbformat_minor": 0
}
